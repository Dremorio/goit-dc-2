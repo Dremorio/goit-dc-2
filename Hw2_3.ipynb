{
 "cells": [
  {
   "cell_type": "code",
   "execution_count": 2,
   "metadata": {},
   "outputs": [
    {
     "data": {
      "text/html": [
       "<div>\n",
       "<style scoped>\n",
       "    .dataframe tbody tr th:only-of-type {\n",
       "        vertical-align: middle;\n",
       "    }\n",
       "\n",
       "    .dataframe tbody tr th {\n",
       "        vertical-align: top;\n",
       "    }\n",
       "\n",
       "    .dataframe thead th {\n",
       "        text-align: right;\n",
       "    }\n",
       "</style>\n",
       "<table border=\"1\" class=\"dataframe\">\n",
       "  <thead>\n",
       "    <tr style=\"text-align: right;\">\n",
       "      <th></th>\n",
       "      <th>name</th>\n",
       "      <th>author</th>\n",
       "      <th>user_rating</th>\n",
       "      <th>reviews</th>\n",
       "      <th>price</th>\n",
       "      <th>year</th>\n",
       "      <th>genre</th>\n",
       "    </tr>\n",
       "  </thead>\n",
       "  <tbody>\n",
       "    <tr>\n",
       "      <th>0</th>\n",
       "      <td>10-Day Green Smoothie Cleanse</td>\n",
       "      <td>JJ Smith</td>\n",
       "      <td>4.7</td>\n",
       "      <td>17350</td>\n",
       "      <td>8</td>\n",
       "      <td>2016</td>\n",
       "      <td>Non Fiction</td>\n",
       "    </tr>\n",
       "    <tr>\n",
       "      <th>1</th>\n",
       "      <td>11/22/63: A Novel</td>\n",
       "      <td>Stephen King</td>\n",
       "      <td>4.6</td>\n",
       "      <td>2052</td>\n",
       "      <td>22</td>\n",
       "      <td>2011</td>\n",
       "      <td>Fiction</td>\n",
       "    </tr>\n",
       "    <tr>\n",
       "      <th>2</th>\n",
       "      <td>12 Rules for Life: An Antidote to Chaos</td>\n",
       "      <td>Jordan B. Peterson</td>\n",
       "      <td>4.7</td>\n",
       "      <td>18979</td>\n",
       "      <td>15</td>\n",
       "      <td>2018</td>\n",
       "      <td>Non Fiction</td>\n",
       "    </tr>\n",
       "    <tr>\n",
       "      <th>3</th>\n",
       "      <td>1984 (Signet Classics)</td>\n",
       "      <td>George Orwell</td>\n",
       "      <td>4.7</td>\n",
       "      <td>21424</td>\n",
       "      <td>6</td>\n",
       "      <td>2017</td>\n",
       "      <td>Fiction</td>\n",
       "    </tr>\n",
       "    <tr>\n",
       "      <th>4</th>\n",
       "      <td>5,000 Awesome Facts (About Everything!) (Natio...</td>\n",
       "      <td>National Geographic Kids</td>\n",
       "      <td>4.8</td>\n",
       "      <td>7665</td>\n",
       "      <td>12</td>\n",
       "      <td>2019</td>\n",
       "      <td>Non Fiction</td>\n",
       "    </tr>\n",
       "  </tbody>\n",
       "</table>\n",
       "</div>"
      ],
      "text/plain": [
       "                                                name  \\\n",
       "0                      10-Day Green Smoothie Cleanse   \n",
       "1                                  11/22/63: A Novel   \n",
       "2            12 Rules for Life: An Antidote to Chaos   \n",
       "3                             1984 (Signet Classics)   \n",
       "4  5,000 Awesome Facts (About Everything!) (Natio...   \n",
       "\n",
       "                     author  user_rating  reviews  price  year        genre  \n",
       "0                  JJ Smith          4.7    17350      8  2016  Non Fiction  \n",
       "1              Stephen King          4.6     2052     22  2011      Fiction  \n",
       "2        Jordan B. Peterson          4.7    18979     15  2018  Non Fiction  \n",
       "3             George Orwell          4.7    21424      6  2017      Fiction  \n",
       "4  National Geographic Kids          4.8     7665     12  2019  Non Fiction  "
      ]
     },
     "execution_count": 2,
     "metadata": {},
     "output_type": "execute_result"
    }
   ],
   "source": [
    "%matplotlib inline\n",
    "import pandas as pd\n",
    "import matplotlib.pyplot as plt\n",
    "import seaborn as sns\n",
    "\n",
    "def process_bad_line(bad_line):\n",
    "    first_column = [','.join(bad_line[:-6])]\n",
    "    rest_columns = bad_line[-6:]\n",
    "    good_line = first_column + rest_columns\n",
    "    return good_line\n",
    "\n",
    "df = pd.read_csv('./bestsellers with categories.csv', engine='python', sep=',', on_bad_lines=process_bad_line)\n",
    "df.columns = ['name', 'author', 'user_rating', 'reviews', 'price', 'year', 'genre']\n",
    "df.head(5)"
   ]
  },
  {
   "cell_type": "code",
   "execution_count": 3,
   "metadata": {},
   "outputs": [
    {
     "data": {
      "text/plain": [
       "(550, 7)"
      ]
     },
     "execution_count": 3,
     "metadata": {},
     "output_type": "execute_result"
    }
   ],
   "source": [
    "df.shape"
   ]
  },
  {
   "cell_type": "code",
   "execution_count": 4,
   "metadata": {},
   "outputs": [
    {
     "name": "stdout",
     "output_type": "stream",
     "text": [
      "Відповідь: 351\n"
     ]
    }
   ],
   "source": [
    "# Відповідь: Про скільки книг зберігає дані датасет?\n",
    "unique_books = df[\"name\"].nunique()\n",
    "print(f\"Відповідь: {unique_books}\")"
   ]
  },
  {
   "cell_type": "code",
   "execution_count": 5,
   "metadata": {},
   "outputs": [
    {
     "data": {
      "text/plain": [
       "name           0\n",
       "author         0\n",
       "user_rating    0\n",
       "reviews        0\n",
       "price          0\n",
       "year           0\n",
       "genre          0\n",
       "dtype: int64"
      ]
     },
     "execution_count": 5,
     "metadata": {},
     "output_type": "execute_result"
    }
   ],
   "source": [
    "missed = df.isna().sum()\n",
    "missed"
   ]
  },
  {
   "cell_type": "code",
   "execution_count": 6,
   "metadata": {},
   "outputs": [],
   "source": [
    "# Відповідь: Чи є в якихось змінних пропуски? Так"
   ]
  },
  {
   "cell_type": "code",
   "execution_count": 7,
   "metadata": {},
   "outputs": [
    {
     "name": "stdout",
     "output_type": "stream",
     "text": [
      "Унікальні жанри - ['Non Fiction' 'Fiction']\n"
     ]
    }
   ],
   "source": [
    "# Відповідь: Які є унікальні жанри?\n",
    "unique_genre = df[\"genre\"].dropna().unique()\n",
    "print(f\"Унікальні жанри - {unique_genre}\")"
   ]
  },
  {
   "cell_type": "code",
   "execution_count": 8,
   "metadata": {},
   "outputs": [
    {
     "data": {
      "image/png": "[encoded data removed]",
      "text/plain": [
       "<Figure size 1000x600 with 1 Axes>"
      ]
     },
     "metadata": {},
     "output_type": "display_data"
    }
   ],
   "source": [
    "plt.figure(figsize=(10, 6))\n",
    "df[\"price\"].plot(kind='hist')\n",
    "plt.title('Розподіл цін')\n",
    "plt.xlabel('Ціна')\n",
    "plt.ylabel('Частота')\n",
    "plt.show()"
   ]
  },
  {
   "cell_type": "code",
   "execution_count": 9,
   "metadata": {},
   "outputs": [
    {
     "name": "stdout",
     "output_type": "stream",
     "text": [
      "Відповідь: Максимальна ціна? Відповідь - 105\n",
      "Відповідь: Мінімальна ціна? Відповідь - 0\n",
      "Відповідь: Середня ціна? Відповідь - 13.1\n",
      "Відповідь: Медіанна ціна? Відповідь - 11.0\n"
     ]
    }
   ],
   "source": [
    "max_price = df['price'].max()\n",
    "min_price = df['price'].min()\n",
    "mean_price = df['price'].mean()\n",
    "median_price = df['price'].median()\n",
    "\n",
    "print(f\"Відповідь: Максимальна ціна? Відповідь - {max_price}\")\n",
    "print(f\"Відповідь: Мінімальна ціна? Відповідь - {min_price}\")\n",
    "print(f\"Відповідь: Середня ціна? Відповідь - {mean_price}\")\n",
    "print(f\"Відповідь: Медіанна ціна? Відповідь - {median_price}\")"
   ]
  },
  {
   "cell_type": "code",
   "execution_count": 10,
   "metadata": {},
   "outputs": [
    {
     "name": "stdout",
     "output_type": "stream",
     "text": [
      "Відповідь: Який рейтинг у датасеті найвищий? Відповідь: 4.9\n",
      "Відповідь: Скільки книг мають такий рейтинг? Відповідь: 52\n",
      "Відповідь: Яка книга має найбільше відгуків? Відповідь: Where the Crawdads Sing\n",
      "Відповідь: З тих книг, що потрапили до Топ-50 у 2015 році, яка книга найдорожча (можна використати проміжний датафрейм)? Відповідь: Publication Manual of the American Psychological Association, 6th Edition\n",
      "Відповідь: Скільки книг жанру Fiction потрапили до Топ-50 у 2010 році (використовуйте &)? Відповідь: 20\n",
      "Відповідь: Скільки книг з рейтингом 4.9 потрапило до рейтингу у 2010 та 2011 роках (використовуйте | або функцію isin)? Відповідь: 1\n",
      "Відповідь: Яка книга остання у відсортованому списку? Відповідь: Old School (Diary of a Wimpy Kid #10)\n"
     ]
    }
   ],
   "source": [
    "max_rating = df[\"user_rating\"].max()\n",
    "print(f\"Відповідь: Який рейтинг у датасеті найвищий? Відповідь: {max_rating}\")\n",
    "\n",
    "books = df[\"user_rating\"].value_counts()[max_rating]\n",
    "print(f\"Відповідь: Скільки книг мають такий рейтинг? Відповідь: {books}\")\n",
    "\n",
    "most_reviews = df[\"reviews\"].idxmax()\n",
    "most_reviews_name = df.loc[most_reviews, 'name']\n",
    "print(f\"Відповідь: Яка книга має найбільше відгуків? Відповідь: {most_reviews_name}\")\n",
    "\n",
    "top_50_2015 = df[df[\"year\"] == 2015].sort_values(by='price', ascending=False).head(50)\n",
    "top_price_2015 = top_50_2015[top_50_2015['price'] == top_50_2015['price'].max()]\n",
    "print(f\"Відповідь: З тих книг, що потрапили до Топ-50 у 2015 році, яка книга найдорожча (можна використати проміжний датафрейм)? Відповідь: {top_price_2015['name'].iloc[0]}\")\n",
    "\n",
    "fiction_books_2010 = ((df['genre'] == 'Fiction') & (df['year'] == 2010)).sum()\n",
    "print(f\"Відповідь: Скільки книг жанру Fiction потрапили до Топ-50 у 2010 році (використовуйте &)? Відповідь: {fiction_books_2010}\")\n",
    "\n",
    "books_4_9_rating = len(df[(df['user_rating'] == 4.9) & (df['year'].isin([2010, 2011]))])\n",
    "print(f\"Відповідь: Скільки книг з рейтингом 4.9 потрапило до рейтингу у 2010 та 2011 роках (використовуйте | або функцію isin)? Відповідь: {books_4_9_rating}\")\n",
    "\n",
    "sorted_values = df[(df['year'] == 2015) & (df['price'] < 8.0)].sort_values(by='price', ascending=True)\n",
    "last_book = sorted_values.iloc[-1]['name']\n",
    "print(f\"Відповідь: Яка книга остання у відсортованому списку? Відповідь: {last_book}\")"
   ]
  },
  {
   "cell_type": "code",
   "execution_count": 11,
   "metadata": {},
   "outputs": [
    {
     "name": "stdout",
     "output_type": "stream",
     "text": [
      "             min  max\n",
      "genre                \n",
      "Fiction        0   82\n",
      "Non Fiction    0  105\n",
      "Відповідь: Максимальна ціна для жанру Fiction: 82\n",
      "Відповідь: Мінімальна ціна для жанру Fiction: 0\n",
      "Відповідь: Максимальна ціна для жанру Non Fiction: 105\n",
      "Відповідь: Мінімальна ціна для жанру Non Fiction: 0\n",
      "                            name\n",
      "author                          \n",
      "Abraham Verghese               2\n",
      "Adam Gasiewski                 1\n",
      "Adam Mansbach                  1\n",
      "Adir Levy                      1\n",
      "Admiral William H. McRaven     1\n",
      "...                          ...\n",
      "Walter Isaacson                3\n",
      "William Davis                  2\n",
      "William P. Young               2\n",
      "Wizards RPG Team               3\n",
      "Zhi Gang Sha                   2\n",
      "\n",
      "[248 rows x 1 columns]\n",
      "Відповідь: Якої розмірності вийшла таблиця? Відповідь: 248\n",
      "Відповідь: Який автор має найбільше книг? Відповідь: Jeff Kinney\n",
      "Відповідь: Скільки книг цього автора? Відповідь: 12\n"
     ]
    }
   ],
   "source": [
    "genre_prices = df.groupby('genre')['price'].agg(['min', 'max'])\n",
    "print(genre_prices)\n",
    "\n",
    "max_price_fiction = genre_prices.loc['Fiction', 'max']\n",
    "print(f\"Відповідь: Максимальна ціна для жанру Fiction: {max_price_fiction}\")\n",
    "\n",
    "min_price_fiction = genre_prices.loc['Fiction', 'min']\n",
    "print(f\"Відповідь: Мінімальна ціна для жанру Fiction: {min_price_fiction}\")\n",
    "\n",
    "max_price_non_fiction = genre_prices.loc['Non Fiction', 'max']\n",
    "print(f\"Відповідь: Максимальна ціна для жанру Non Fiction: {max_price_non_fiction}\")\n",
    "\n",
    "min_price_non_fiction = genre_prices.loc['Non Fiction', 'min']\n",
    "print(f\"Відповідь: Мінімальна ціна для жанру Non Fiction: {min_price_non_fiction}\")\n",
    "\n",
    "new_df = df.groupby('author').agg({'name': 'count'})\n",
    "print(new_df)\n",
    "\n",
    "shape_of_df = new_df.shape[0]\n",
    "print(f\"Відповідь: Якої розмірності вийшла таблиця? Відповідь: {shape_of_df}\")\n",
    "\n",
    "most_books = new_df['name'].idxmax()\n",
    "print(f\"Відповідь: Який автор має найбільше книг? Відповідь: {most_books}\")\n",
    "\n",
    "author_books = new_df.loc[most_books, 'name']\n",
    "print(f\"Відповідь: Скільки книг цього автора? Відповідь: {author_books}\")"
   ]
  },
  {
   "cell_type": "code",
   "execution_count": 12,
   "metadata": {},
   "outputs": [
    {
     "name": "stdout",
     "output_type": "stream",
     "text": [
      "                            user_rating\n",
      "author                                 \n",
      "Abraham Verghese               4.600000\n",
      "Adam Gasiewski                 4.400000\n",
      "Adam Mansbach                  4.800000\n",
      "Adir Levy                      4.800000\n",
      "Admiral William H. McRaven     4.700000\n",
      "...                                 ...\n",
      "Walter Isaacson                4.566667\n",
      "William Davis                  4.400000\n",
      "William P. Young               4.600000\n",
      "Wizards RPG Team               4.800000\n",
      "Zhi Gang Sha                   4.600000\n",
      "\n",
      "[248 rows x 1 columns]\n",
      "Відповідь: У якого автора середній рейтинг мінімальний? Відповідь: Donna Tartt\n",
      "Відповідь: Який у цього автора середній рейтинг? Відповідь: 3.9\n"
     ]
    }
   ],
   "source": [
    "new_df_2 = df.groupby('author').agg({'user_rating': 'mean'})\n",
    "print(new_df_2)\n",
    "\n",
    "min_rating = new_df_2['user_rating'].idxmin()\n",
    "print(f\"Відповідь: У якого автора середній рейтинг мінімальний? Відповідь: {min_rating}\")\n",
    "\n",
    "author_rating = new_df_2.loc[min_rating, 'user_rating']\n",
    "print(f\"Відповідь: Який у цього автора середній рейтинг? Відповідь: {author_rating}\")"
   ]
  },
  {
   "cell_type": "code",
   "execution_count": 13,
   "metadata": {},
   "outputs": [
    {
     "name": "stdout",
     "output_type": "stream",
     "text": [
      "                            name  user_rating\n",
      "author                                       \n",
      "Abraham Verghese               2     4.600000\n",
      "Adam Gasiewski                 1     4.400000\n",
      "Adam Mansbach                  1     4.800000\n",
      "Adir Levy                      1     4.800000\n",
      "Admiral William H. McRaven     1     4.700000\n",
      "...                          ...          ...\n",
      "Walter Isaacson                3     4.566667\n",
      "William Davis                  2     4.400000\n",
      "William P. Young               2     4.600000\n",
      "Wizards RPG Team               3     4.800000\n",
      "Zhi Gang Sha                   2     4.600000\n",
      "\n",
      "[248 rows x 2 columns]\n",
      "                                    name  user_rating\n",
      "author                                               \n",
      "Muriel Barbery                         1     4.000000\n",
      "Chris Cleave                           1     4.100000\n",
      "Ian K. Smith M.D.                      1     4.100000\n",
      "Pierre Dukan                           1     4.100000\n",
      "Elizabeth Strout                       1     4.200000\n",
      "...                                  ...          ...\n",
      "American Psychological Association    10     4.500000\n",
      "Suzanne Collins                       11     4.663636\n",
      "Gary Chapman                          11     4.736364\n",
      "Rick Riordan                          11     4.772727\n",
      "Jeff Kinney                           12     4.800000\n",
      "\n",
      "[248 rows x 2 columns]\n",
      "Відповідь: Який автор перший у списку? Muriel Barbery\n"
     ]
    }
   ],
   "source": [
    "new_df_3 = pd.concat([new_df, new_df_2], axis=1)\n",
    "print(new_df_3)\n",
    "sorted_df = new_df_3.sort_values(by=['name', 'user_rating'], ascending=[True, True])\n",
    "print(sorted_df)\n",
    "\n",
    "first_author = sorted_df.index[0]\n",
    "print(f\"Відповідь: Який автор перший у списку? {first_author}\")"
   ]
  },
  {
   "cell_type": "code",
   "execution_count": 14,
   "metadata": {},
   "outputs": [
    {
     "data": {
      "text/plain": [
       "<Axes: xlabel='genre', ylabel='price'>"
      ]
     },
     "execution_count": 14,
     "metadata": {},
     "output_type": "execute_result"
    },
    {
     "data": {
      "image/png": "[encoded data removed]",
      "text/plain": [
       "<Figure size 640x480 with 1 Axes>"
      ]
     },
     "metadata": {},
     "output_type": "display_data"
    }
   ],
   "source": [
    "sns.set_style(\"darkgrid\")\n",
    "data = df\n",
    "sns.stripplot(x='genre', y='price', data=data)"
   ]
  },
  {
   "cell_type": "code",
   "execution_count": 15,
   "metadata": {},
   "outputs": [
    {
     "data": {
      "text/plain": [
       "<Axes: xlabel='genre', ylabel='price'>"
      ]
     },
     "execution_count": 15,
     "metadata": {},
     "output_type": "execute_result"
    },
    {
     "data": {
      "image/png": "[encoded data removed]",
      "text/plain": [
       "<Figure size 640x480 with 1 Axes>"
      ]
     },
     "metadata": {},
     "output_type": "display_data"
    }
   ],
   "source": [
    "sns.stripplot(x='genre', y='price', hue='user_rating', data=data)"
   ]
  }
 ],
 "metadata": {
  "kernelspec": {
   "display_name": ".venv",
   "language": "python",
   "name": "python3"
  },
  "language_info": {
   "codemirror_mode": {
    "name": "ipython",
    "version": 3
   },
   "file_extension": ".py",
   "mimetype": "text/x-python",
   "name": "python",
   "nbconvert_exporter": "python",
   "pygments_lexer": "ipython3",
   "version": "3.12.1"
  }
 },
 "nbformat": 4,
 "nbformat_minor": 2
}
